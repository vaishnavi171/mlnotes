{
 "cells": [
  {
   "cell_type": "raw",
   "metadata": {},
   "source": [
    "---\n",
    "title: \"Numpy Exercises\"\n",
    "author: \"Vaishnavi\"\n",
    "date: 2020-08-10\n",
    "description: \"-\"\n",
    "type: technical_note\n",
    "draft: false\n",
    "\n",
    "\n",
    "---\n"
   ]
  },
  {
   "cell_type": "code",
   "execution_count": 2,
   "metadata": {},
   "outputs": [],
   "source": [
    "import numpy as np "
   ]
  },
  {
   "cell_type": "code",
   "execution_count": 3,
   "metadata": {},
   "outputs": [
    {
     "name": "stdout",
     "output_type": "stream",
     "text": [
      "Array is of type:  <class 'numpy.ndarray'>\n",
      "No. of dimensions:  2\n",
      "Shape of array:  (2, 3)\n",
      "Size of array:  6\n",
      "Array stores elements of type:  int64\n"
     ]
    }
   ],
   "source": [
    "# 1. Creating array object \n",
    "\n",
    "arr = np.array( [[ 1, 2, 3], \n",
    "                 [ 4, 2, 5]] ) \n",
    "  \n",
    "# Printing type of arr object \n",
    "\n",
    "print(\"Array is of type: \", type(arr)) \n",
    "  \n",
    "# Printing array dimensions (axes)\n",
    "\n",
    "print(\"No. of dimensions: \", arr.ndim) \n",
    "  \n",
    "# Printing shape of array \n",
    "\n",
    "print(\"Shape of array: \", arr.shape) \n",
    "  \n",
    "# Printing size (total number of elements) of array \n",
    "\n",
    "print(\"Size of array: \", arr.size) \n",
    "  \n",
    "# Printing type of elements in array \n",
    "\n",
    "print(\"Array stores elements of type: \", arr.dtype)"
   ]
  },
  {
   "cell_type": "code",
   "execution_count": 4,
   "metadata": {},
   "outputs": [
    {
     "name": "stdout",
     "output_type": "stream",
     "text": [
      "Original Array\n",
      " [[1 2 3]\n",
      " [4 2 5]]\n",
      "Array Modified\n",
      " [[ 1 -1  3]\n",
      " [-1 -1  5]]\n"
     ]
    }
   ],
   "source": [
    "# 2. Replace items that satisfy a condition with another value in numpy array \n",
    "\n",
    "out = np.where(arr%2==0,-1,arr)\n",
    "print(\"Original Array\\n\",arr)\n",
    "print(\"Array Modified\\n\",out)"
   ]
  },
  {
   "cell_type": "code",
   "execution_count": 5,
   "metadata": {},
   "outputs": [
    {
     "name": "stdout",
     "output_type": "stream",
     "text": [
      "Reshaping Array\n",
      " [1 2 3 4 2 5]\n"
     ]
    }
   ],
   "source": [
    "# 3. Reshape array\n",
    "\n",
    "newarr = arr.reshape(-1)\n",
    "print(\"Reshaping Array\\n\",newarr)"
   ]
  },
  {
   "cell_type": "code",
   "execution_count": 6,
   "metadata": {},
   "outputs": [
    {
     "name": "stdout",
     "output_type": "stream",
     "text": [
      "Slicing Array [2 5]\n"
     ]
    }
   ],
   "source": [
    "# 4. Slicing 2D Array\n",
    "\n",
    "print(\"Slicing Array\",arr[1, 1:4])"
   ]
  },
  {
   "cell_type": "code",
   "execution_count": 7,
   "metadata": {},
   "outputs": [
    {
     "name": "stdout",
     "output_type": "stream",
     "text": [
      "Original array : \n",
      " [[[0 1]\n",
      "  [2 3]]\n",
      "\n",
      " [[4 5]\n",
      "  [6 7]]]\n",
      "Flipped array : \n",
      " [[[4 5]\n",
      "  [6 7]]\n",
      "\n",
      " [[0 1]\n",
      "  [2 3]]]\n"
     ]
    }
   ],
   "source": [
    "# 5. Flipping the Array\n",
    "\n",
    "array = np.arange(8).reshape((2,2,2)) \n",
    "print(\"Original array : \\n\", array) \n",
    "\n",
    "print(\"Flipped array : \\n\", np.flip(array, 0)) "
   ]
  },
  {
   "cell_type": "code",
   "execution_count": 8,
   "metadata": {},
   "outputs": [
    {
     "name": "stdout",
     "output_type": "stream",
     "text": [
      "(array([0]), array([2]))\n"
     ]
    }
   ],
   "source": [
    "# 6. Searching\n",
    "\n",
    "x = np.where(out == 3)\n",
    "print(x)"
   ]
  },
  {
   "cell_type": "code",
   "execution_count": 9,
   "metadata": {},
   "outputs": [
    {
     "data": {
      "text/plain": [
       "array([6., 7., 9., 8., 9., 7., 5.])"
      ]
     },
     "execution_count": 9,
     "metadata": {},
     "output_type": "execute_result"
    }
   ],
   "source": [
    "# 7.Make a python function that handles scalars to work on numpy arrays \n",
    "\n",
    "def maxx(x, y):\n",
    "    \"\"\"Get the maximum of two items\"\"\"\n",
    "    if x >= y:\n",
    "        return x\n",
    "    else:\n",
    "        return y\n",
    "\n",
    "pair_max = np.vectorize(maxx, otypes=[float])\n",
    "\n",
    "a = np.array([5, 7, 9, 8, 6, 4, 5])\n",
    "b = np.array([6, 3, 4, 8, 9, 7, 1])\n",
    "\n",
    "pair_max(a, b)\n",
    "\n"
   ]
  },
  {
   "cell_type": "code",
   "execution_count": 10,
   "metadata": {},
   "outputs": [
    {
     "name": "stdout",
     "output_type": "stream",
     "text": [
      "Taking Indices\n",
      " [[1 2]\n",
      " [3 4]]\n"
     ]
    }
   ],
   "source": [
    "# 8. Numpy Take method\n",
    "\n",
    "print(\"Taking Indices\\n\", np.take(arr,[[0, 1], [2, 3]])) "
   ]
  },
  {
   "cell_type": "code",
   "execution_count": 11,
   "metadata": {},
   "outputs": [
    {
     "name": "stdout",
     "output_type": "stream",
     "text": [
      "Create Identical Matrix\n",
      " [[1. 0. 0. 0.]\n",
      " [0. 1. 0. 0.]\n",
      " [0. 0. 1. 0.]\n",
      " [0. 0. 0. 1.]]\n"
     ]
    }
   ],
   "source": [
    "# 9. To create identical matrix\n",
    "\n",
    "idn = np.eye(4)\n",
    "print(\"Create Identical Matrix\\n\",idn)"
   ]
  },
  {
   "cell_type": "code",
   "execution_count": 12,
   "metadata": {},
   "outputs": [
    {
     "name": "stdout",
     "output_type": "stream",
     "text": [
      "arr1 array :  [12, 3, 4, 6]\n",
      "arr2 array :  [5, 4, 3, 8]\n",
      "\n",
      "Hypotenuse is as follows : [13.  5.  5. 10.]\n"
     ]
    }
   ],
   "source": [
    "# 10. Numpy Hypot function\n",
    "\n",
    "arr1 = [12, 3, 4, 6] \n",
    "print (\"arr1 array : \", arr1) \n",
    "\n",
    "\n",
    "arr2 = [5, 4, 3, 8] \n",
    "print (\"arr2 array : \", arr2) \n",
    "\n",
    "result = np.hypot(arr1, arr2) \n",
    "print(\"\\nHypotenuse is as follows :\",result) "
   ]
  },
  {
   "cell_type": "code",
   "execution_count": 13,
   "metadata": {},
   "outputs": [
    {
     "name": "stdout",
     "output_type": "stream",
     "text": [
      "Array with first 2 rows and alternate columns(0 and 2):\n",
      " [[1. 0.]\n",
      " [0. 0.]]\n"
     ]
    }
   ],
   "source": [
    "# 11. Slicing\n",
    "\n",
    "sliced_arr = idn[:2, ::2]\n",
    "print (\"Array with first 2 rows and\"\n",
    "    \" alternate columns(0 and 2):\\n\", sliced_arr)"
   ]
  },
  {
   "cell_type": "code",
   "execution_count": 15,
   "metadata": {},
   "outputs": [
    {
     "name": "stdout",
     "output_type": "stream",
     "text": [
      "[[-2.   1. ]\n",
      " [ 1.5 -0.5]]\n"
     ]
    }
   ],
   "source": [
    "# 12. Inverse of a matrix\n",
    "\n",
    "mat = np.array([\n",
    "[1, 2],\n",
    "[3, 4]\n",
    "])\n",
    "inverse_mat = np.linalg.inv(mat)\n",
    "print(inverse_mat) "
   ]
  },
  {
   "cell_type": "code",
   "execution_count": 16,
   "metadata": {},
   "outputs": [
    {
     "name": "stdout",
     "output_type": "stream",
     "text": [
      "\n",
      "Square root of Array1 elements: \n",
      "[[1.         1.41421356]\n",
      " [1.73205081 2.        ]]\n"
     ]
    }
   ],
   "source": [
    "# 13. Squareroot of array elements\n",
    "\n",
    "Sqrt = np.sqrt(mat)\n",
    "print(\"\\nSquare root of Array1 elements: \")\n",
    "print(Sqrt)"
   ]
  },
  {
   "cell_type": "code",
   "execution_count": 17,
   "metadata": {},
   "outputs": [
    {
     "name": "stdout",
     "output_type": "stream",
     "text": [
      "\n",
      "Transpose of Array: \n",
      "[[1 3]\n",
      " [2 4]]\n"
     ]
    }
   ],
   "source": [
    "# 14. Transpose of Array\n",
    "\n",
    "Trans_mat = mat.T\n",
    "print(\"\\nTranspose of Array: \")\n",
    "print(Trans_mat)"
   ]
  },
  {
   "cell_type": "code",
   "execution_count": 18,
   "metadata": {},
   "outputs": [
    {
     "name": "stdout",
     "output_type": "stream",
     "text": [
      "Input array : \n",
      " [1, 3, 5, 4]\n",
      "\n",
      "Is real : \n",
      " True\n"
     ]
    }
   ],
   "source": [
    "# 15. To find real number or not\n",
    "\n",
    "in_array = [1, 3, 5, 4] \n",
    "print (\"Input array : \\n\", in_array) \n",
    "\n",
    "output_value = np.isrealobj(in_array) \n",
    "print (\"\\nIs real : \\n\", output_value) "
   ]
  },
  {
   "cell_type": "code",
   "execution_count": 21,
   "metadata": {},
   "outputs": [
    {
     "name": "stdout",
     "output_type": "stream",
     "text": [
      "\n",
      "Flipped array left-right : \n",
      " [[2 1]\n",
      " [4 3]]\n"
     ]
    }
   ],
   "source": [
    "# 16. Flip left to right\n",
    "\n",
    "print(\"\\nFlipped array left-right : \\n\", np.fliplr(mat)) \n"
   ]
  },
  {
   "cell_type": "code",
   "execution_count": 23,
   "metadata": {},
   "outputs": [
    {
     "name": "stdout",
     "output_type": "stream",
     "text": [
      "Input array : \n",
      " [0.5, 1.5, 2.5, 3.5, 4.5, 10.1]\n",
      "\n",
      "Rounded values : \n",
      " [ 0.  2.  2.  4.  4. 10.]\n"
     ]
    }
   ],
   "source": [
    "# 17. Roundoff using function\n",
    "\n",
    "  \n",
    "in_array = [.5, 1.5, 2.5, 3.5, 4.5, 10.1] \n",
    "print (\"Input array : \\n\", in_array) \n",
    "  \n",
    "rintoff_values = np.rint(in_array) \n",
    "print (\"\\nRounded values : \\n\", rintoff_values) "
   ]
  },
  {
   "cell_type": "code",
   "execution_count": 24,
   "metadata": {},
   "outputs": [
    {
     "name": "stdout",
     "output_type": "stream",
     "text": [
      "Via bmat array like input : \n",
      " [[ 4  1  5  2]\n",
      " [22  1  5  2]\n",
      " [ 8  4  4  1]\n",
      " [ 6  6 22  1]] \n",
      "\n",
      "\n",
      "Via bmat string like input : \n",
      " [[ 4  1  5  2]\n",
      " [22  1  5  2]\n",
      " [ 4  1  4  1]\n",
      " [22  1 22  1]]\n"
     ]
    }
   ],
   "source": [
    "# 18. bmat() function\n",
    "\n",
    "\n",
    "A = np.mat('4 1; 22 1') \n",
    "B = np.mat('5 2; 5 2') \n",
    "C = np.mat('8 4; 6 6') \n",
    "  \n",
    "# array like igeekut \n",
    "a = np.bmat([[A, B], [C, A]]) \n",
    "print(\"Via bmat array like input : \\n\", a, \"\\n\\n\") \n",
    "  \n",
    "# string like igeekut \n",
    "s = np.bmat('A, B; A, A') \n",
    "print(\"Via bmat string like input : \\n\", s) "
   ]
  },
  {
   "cell_type": "code",
   "execution_count": 25,
   "metadata": {},
   "outputs": [
    {
     "name": "stdout",
     "output_type": "stream",
     "text": [
      "Original array : \n",
      " [[ 0  1  2  3]\n",
      " [ 4  5  6  7]\n",
      " [ 8  9 10 11]]\n",
      "\n",
      "Rolling with 1 shift : \n",
      " [[11  0  1  2]\n",
      " [ 3  4  5  6]\n",
      " [ 7  8  9 10]]\n"
     ]
    }
   ],
   "source": [
    "# 19. roll()\n",
    "\n",
    "array = np.arange(12).reshape(3, 4) \n",
    "print(\"Original array : \\n\", array) \n",
    "   \n",
    "# Rolling array; Shifting one place \n",
    "print(\"\\nRolling with 1 shift : \\n\", np.roll(array, 1)) "
   ]
  },
  {
   "cell_type": "code",
   "execution_count": 27,
   "metadata": {},
   "outputs": [
    {
     "name": "stdout",
     "output_type": "stream",
     "text": [
      "Matrix b : \n",
      " [[1. 0.]\n",
      " [0. 1.]]\n"
     ]
    }
   ],
   "source": [
    "# 20. 2x2 matrix with 1's on main diagnol \n",
    "\n",
    "b = np.identity(2, dtype = float) \n",
    "print(\"Matrix b : \\n\", b) "
   ]
  },
  {
   "cell_type": "code",
   "execution_count": 29,
   "metadata": {},
   "outputs": [
    {
     "name": "stdout",
     "output_type": "stream",
     "text": [
      "x before full_like : \n",
      " [[0 1 2 3 4]\n",
      " [5 6 7 8 9]]\n",
      "\n",
      "x after full_like : \n",
      " [[10 10 10 10 10]\n",
      " [10 10 10 10 10]]\n"
     ]
    }
   ],
   "source": [
    "# 21. numpy.full_like method \n",
    "\n",
    "x = np.arange(10, dtype = int).reshape(2, 5) \n",
    "print(\"x before full_like : \\n\", x) \n",
    "  \n",
    "# using full_like \n",
    "print(\"\\nx after full_like : \\n\", np.full_like(x, 10.0)) "
   ]
  },
  {
   "cell_type": "code",
   "execution_count": 31,
   "metadata": {},
   "outputs": [
    {
     "name": "stdout",
     "output_type": "stream",
     "text": [
      "Main Diagnal elements : \n",
      " [  1 434  56] \n",
      "\n"
     ]
    }
   ],
   "source": [
    "# 22. Diagonal  Elements\n",
    "\n",
    "a = np.matrix([[1, 21, 30],  \n",
    "                 [63 ,434, 3],  \n",
    "                 [54, 54, 56]]) \n",
    "  \n",
    "print(\"Main Diagnal elements : \\n\", np.diag(a), \"\\n\") "
   ]
  },
  {
   "cell_type": "code",
   "execution_count": 32,
   "metadata": {},
   "outputs": [
    {
     "name": "stdout",
     "output_type": "stream",
     "text": [
      "diagflat use on main diagonal : \n",
      " [[1 0]\n",
      " [0 7]] \n",
      "\n"
     ]
    }
   ],
   "source": [
    "# 23. Numpy.diagflat method \n",
    "\n",
    "print(\"diagflat use on main diagonal : \\n\", np.diagflat([1, 7]), \"\\n\") "
   ]
  },
  {
   "cell_type": "code",
   "execution_count": 33,
   "metadata": {},
   "outputs": [
    {
     "name": "stdout",
     "output_type": "stream",
     "text": [
      "Indices of diagnol elements as tuple : \n",
      "(array([0, 1, 2, 3, 4]), array([0, 1, 2, 3, 4])) \n",
      "\n"
     ]
    }
   ],
   "source": [
    "# 24. Creates a 5 X 5 array and returns indices of main diagonal elements \n",
    "\n",
    "d = np.diag_indices(5) \n",
    "print(\"Indices of diagnol elements as tuple : \") \n",
    "print(d, \"\\n\") "
   ]
  },
  {
   "cell_type": "code",
   "execution_count": 34,
   "metadata": {},
   "outputs": [
    {
     "name": "stdout",
     "output_type": "stream",
     "text": [
      "Solution :  15692.928894335748\n"
     ]
    },
    {
     "name": "stderr",
     "output_type": "stream",
     "text": [
      "<ipython-input-34-fcf883c3b6a2>:3: DeprecationWarning: numpy.fv is deprecated and will be removed from NumPy 1.20. Use numpy_financial.fv instead (https://pypi.org/project/numpy-financial/).\n",
      "  Solution = np.fv(0.05/12, 10*12, -100, -100)\n"
     ]
    }
   ],
   "source": [
    "# 25. To predict financial future values\n",
    "\n",
    "Solution = np.fv(0.05/12, 10*12, -100, -100) \n",
    "  \n",
    "print(\"Solution : \", Solution)"
   ]
  },
  {
   "cell_type": "code",
   "execution_count": null,
   "metadata": {},
   "outputs": [],
   "source": []
  }
 ],
 "metadata": {
  "kernelspec": {
   "display_name": "Python 3",
   "language": "python",
   "name": "python3"
  },
  "language_info": {
   "codemirror_mode": {
    "name": "ipython",
    "version": 3
   },
   "file_extension": ".py",
   "mimetype": "text/x-python",
   "name": "python",
   "nbconvert_exporter": "python",
   "pygments_lexer": "ipython3",
   "version": "3.8.2"
  }
 },
 "nbformat": 4,
 "nbformat_minor": 4
}
